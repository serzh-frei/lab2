{
 "cells": [
  {
   "cell_type": "markdown",
   "id": "985225e5-3fe7-443f-b9f6-5be60ebbc8c6",
   "metadata": {},
   "source": [
    "## Примеры"
   ]
  },
  {
   "cell_type": "code",
   "execution_count": 3,
   "id": "e8e9a915-fad6-48fc-8d1a-809a1c2a9e45",
   "metadata": {},
   "outputs": [
    {
     "name": "stdout",
     "output_type": "stream",
     "text": [
      "[5 7 9]\n"
     ]
    }
   ],
   "source": [
    "import numpy as np\n",
    "arr1 = np.array([1, 2, 3])\n",
    "arr2 = np.array([4, 5, 6])\n",
    "result = arr1 + arr2\n",
    "print(result)"
   ]
  },
  {
   "cell_type": "code",
   "execution_count": 21,
   "id": "2dd3e9ef-ffae-4d93-b146-86ee1f555daf",
   "metadata": {},
   "outputs": [
    {
     "name": "stdout",
     "output_type": "stream",
     "text": [
      "[[19 22]\n",
      " [43 50]]\n"
     ]
    }
   ],
   "source": [
    "matrix1 = np.array([[1, 2], [3, 4]])\n",
    "matrix2 = np.array([[5, 6], [7, 8]])\n",
    "result = np.dot(matrix1, matrix2)\n",
    "print(result)"
   ]
  },
  {
   "cell_type": "code",
   "execution_count": 22,
   "id": "56010268-1a71-4137-bfea-dbe1bafa9725",
   "metadata": {},
   "outputs": [
    {
     "name": "stdout",
     "output_type": "stream",
     "text": [
      "1.4142135623730951\n"
     ]
    }
   ],
   "source": [
    "data = np.array([1, 2, 3, 4, 5])\n",
    "mean = np.mean(data)\n",
    "std_dev = np.std(data) \n",
    "print(std_dev)"
   ]
  },
  {
   "cell_type": "code",
   "execution_count": 6,
   "id": "3dafb535-b305-4e31-bd1f-f1e9a1b5369e",
   "metadata": {},
   "outputs": [
    {
     "name": "stdout",
     "output_type": "stream",
     "text": [
      "[[1]\n",
      " [2]]\n"
     ]
    }
   ],
   "source": [
    "v_vert_np = np.array([[1], [2]])\n",
    "print(v_vert_np)"
   ]
  },
  {
   "cell_type": "code",
   "execution_count": 7,
   "id": "58466bd6-1a60-4fdc-825d-512f24689e15",
   "metadata": {},
   "outputs": [
    {
     "name": "stdout",
     "output_type": "stream",
     "text": [
      "[[1 2 3 4]\n",
      " [5 6 7 8]\n",
      " [9 1 5 7]]\n"
     ]
    }
   ],
   "source": [
    "m = np.matrix('1 2 3 4; 5 6 7 8; 9 1 5 7')\n",
    "print(m)"
   ]
  },
  {
   "cell_type": "code",
   "execution_count": 8,
   "id": "bfd4f9d6-599c-405d-9eaf-1458ed9641ce",
   "metadata": {},
   "outputs": [
    {
     "name": "stdout",
     "output_type": "stream",
     "text": [
      "[2 4 6 8]\n"
     ]
    }
   ],
   "source": [
    "arr = np.array([1, 2, 3, 4])\n",
    "result = arr * 2\n",
    "print(result)"
   ]
  },
  {
   "cell_type": "code",
   "execution_count": 9,
   "id": "73f3158f-ff19-457c-ae2c-0f026fc3661a",
   "metadata": {},
   "outputs": [
    {
     "name": "stdout",
     "output_type": "stream",
     "text": [
      "[[ 0.45454545  0.27272727]\n",
      " [-0.18181818  0.09090909]]\n"
     ]
    }
   ],
   "source": [
    "A = np.matrix('1 -3; 2 5')\n",
    "A_inv = np.linalg.inv(A)\n",
    "print(A_inv)"
   ]
  },
  {
   "cell_type": "code",
   "execution_count": 10,
   "id": "11b124d6-2a3a-4bb2-bf7a-8bb1eef19ef6",
   "metadata": {},
   "outputs": [
    {
     "name": "stdout",
     "output_type": "stream",
     "text": [
      "[[ 1. -3.]\n",
      " [ 2.  5.]]\n"
     ]
    }
   ],
   "source": [
    "A = np.matrix('1. -3.; 2. 5.')\n",
    "A_inv = np.linalg.inv(A)\n",
    "A_inv_inv = np.linalg.inv(A_inv)\n",
    "print(A)"
   ]
  },
  {
   "cell_type": "code",
   "execution_count": 11,
   "id": "ddb8b664-67ac-433d-ab9c-4ed50f6ad710",
   "metadata": {},
   "outputs": [
    {
     "name": "stdout",
     "output_type": "stream",
     "text": [
      "[[5 6 7 8]]\n"
     ]
    }
   ],
   "source": [
    "m = np.matrix('1 2 3 4; 5 6 7 8; 9 1 5 7')\n",
    "print(m[1, :])"
   ]
  },
  {
   "cell_type": "code",
   "execution_count": 12,
   "id": "7e89d404-e983-45b2-9f1c-4fb3223e63f5",
   "metadata": {},
   "outputs": [
    {
     "name": "stdout",
     "output_type": "stream",
     "text": [
      "[[2 3]\n",
      " [6 7]]\n"
     ]
    }
   ],
   "source": [
    "m = np.matrix('1 2 3 4; 5 6 7 8; 9 1 5 7')\n",
    "print(m[0:2, 1:3])"
   ]
  },
  {
   "cell_type": "code",
   "execution_count": 13,
   "id": "db055b6c-cd92-4028-a544-aca7c2c56da0",
   "metadata": {},
   "outputs": [
    {
     "name": "stdout",
     "output_type": "stream",
     "text": [
      "<class 'numpy.matrix'>\n"
     ]
    }
   ],
   "source": [
    "m = np.matrix('1 2 3 4; 5 6 7 8; 9 1 5 7')\n",
    "print(type(m))"
   ]
  },
  {
   "cell_type": "code",
   "execution_count": 14,
   "id": "0dafb276-3e5f-4694-ae5e-edfcee84d62a",
   "metadata": {},
   "outputs": [
    {
     "name": "stdout",
     "output_type": "stream",
     "text": [
      "9\n"
     ]
    }
   ],
   "source": [
    "m = np.matrix('1 2 3 4; 5 6 7 8; 9 1 5 7')\n",
    "print(m.max())"
   ]
  },
  {
   "cell_type": "code",
   "execution_count": 15,
   "id": "924ba62c-f9d8-4bc1-abb5-22d9ad30a950",
   "metadata": {},
   "outputs": [
    {
     "name": "stdout",
     "output_type": "stream",
     "text": [
      "[[9 6 7 8]]\n"
     ]
    }
   ],
   "source": [
    "m = np.matrix('1 2 3 4; 5 6 7 8; 9 1 5 7')\n",
    "print(m.max(axis=0))"
   ]
  },
  {
   "cell_type": "code",
   "execution_count": 16,
   "id": "4cf01920-7a68-431f-9eab-e4e0c6b913cd",
   "metadata": {},
   "outputs": [
    {
     "name": "stdout",
     "output_type": "stream",
     "text": [
      "[1 2 3 4]\n"
     ]
    }
   ],
   "source": [
    "nums = np.array([1, 2, 3, 4, 5, 6, 7, 8, 9, 10])\n",
    "print(nums[nums < 5])"
   ]
  },
  {
   "cell_type": "code",
   "execution_count": 17,
   "id": "a972432a-48cd-4ed8-b0a9-9b8bf17e7d37",
   "metadata": {},
   "outputs": [
    {
     "name": "stdout",
     "output_type": "stream",
     "text": [
      "[0 1 2 3 4 5 6 7 8 9]\n"
     ]
    }
   ],
   "source": [
    "mas = np.arange(10)\n",
    "print(mas)"
   ]
  },
  {
   "cell_type": "code",
   "execution_count": 18,
   "id": "00659e41-6fd2-4535-8ed8-5099dbaeca75",
   "metadata": {},
   "outputs": [
    {
     "name": "stdout",
     "output_type": "stream",
     "text": [
      "[[0. 0. 0. 0.]\n",
      " [0. 0. 0. 0.]\n",
      " [0. 0. 0. 0.]]\n",
      "[[1. 0. 0.]\n",
      " [0. 1. 0.]\n",
      " [0. 0. 1.]]\n"
     ]
    }
   ],
   "source": [
    "print(np.zeros((3, 4)))\n",
    "print(np.eye(3))"
   ]
  },
  {
   "cell_type": "code",
   "execution_count": 19,
   "id": "6caae8d9-aa4a-43ce-8e05-e38ac98eff15",
   "metadata": {},
   "outputs": [
    {
     "name": "stdout",
     "output_type": "stream",
     "text": [
      "[ 0.   0.1 20.   0.3 40.   0.5 60.   0.7 80.   0.9]\n"
     ]
    }
   ],
   "source": [
    "a = np.array([0, 1, 2, 3, 4, 5, 6, 7, 8, 9])\n",
    "print(np.where(a % 2 == 0, a * 10, a / 10))"
   ]
  },
  {
   "cell_type": "code",
   "execution_count": 20,
   "id": "bd98f1e2-7e22-46f2-9fd8-919d486e8f66",
   "metadata": {},
   "outputs": [
    {
     "name": "stdout",
     "output_type": "stream",
     "text": [
      "[[0.   0.25 0.5  0.75 1.  ]\n",
      " [0.   0.25 0.5  0.75 1.  ]\n",
      " [0.   0.25 0.5  0.75 1.  ]\n",
      " [0.   0.25 0.5  0.75 1.  ]\n",
      " [0.   0.25 0.5  0.75 1.  ]] \n",
      "\n",
      "[[0.  0.  0.  0.  0. ]\n",
      " [0.5 0.5 0.5 0.5 0.5]\n",
      " [1.  1.  1.  1.  1. ]\n",
      " [1.5 1.5 1.5 1.5 1.5]\n",
      " [2.  2.  2.  2.  2. ]]\n"
     ]
    }
   ],
   "source": [
    "x = np.linspace(0, 1, 5)\n",
    "y = np.linspace(0, 2, 5)\n",
    "xg, yg = np.meshgrid(x, y)\n",
    "print(xg, '\\n')\n",
    "print(yg)"
   ]
  },
  {
   "cell_type": "code",
   "execution_count": 23,
   "id": "56a8b742-b4b2-4610-b87d-84b7046f224a",
   "metadata": {},
   "outputs": [
    {
     "name": "stdout",
     "output_type": "stream",
     "text": [
      "[1 5 4 6 0 2 3]\n"
     ]
    }
   ],
   "source": [
    "print(np.random.permutation(7))"
   ]
  },
  {
   "cell_type": "code",
   "execution_count": 24,
   "id": "b52d32fd-1bb0-487c-9a4e-48910bd13700",
   "metadata": {},
   "outputs": [
    {
     "name": "stdout",
     "output_type": "stream",
     "text": [
      "[3 2 0 1]\n"
     ]
    }
   ],
   "source": [
    "arr_mix = np.random.permutation(arr)\n",
    "index_mix = np.random.permutation(len(arr_mix))\n",
    "print(index_mix)"
   ]
  },
  {
   "cell_type": "code",
   "execution_count": 25,
   "id": "e64abf28-66a3-4a12-a5ba-8b9a12010335",
   "metadata": {},
   "outputs": [
    {
     "name": "stdout",
     "output_type": "stream",
     "text": [
      "[[0. 0. 0. 0. 0.]]\n",
      "[1. 1. 1. 1. 1.]\n"
     ]
    }
   ],
   "source": [
    "v_hor_zeros_v2 = np.zeros((1, 5))\n",
    "print(v_hor_zeros_v2 )\n",
    "v_hor_one_v1 = np.ones((5,))\n",
    "print(v_hor_one_v1)"
   ]
  },
  {
   "cell_type": "code",
   "execution_count": 26,
   "id": "13efa21a-7217-4b16-9b23-688fa877fdaa",
   "metadata": {},
   "outputs": [
    {
     "name": "stdout",
     "output_type": "stream",
     "text": [
      "[[1.]\n",
      " [1.]\n",
      " [1.]\n",
      " [1.]\n",
      " [1.]]\n"
     ]
    }
   ],
   "source": [
    "v_vert_ones = np.ones((5, 1))\n",
    "print(v_vert_ones)"
   ]
  },
  {
   "cell_type": "code",
   "execution_count": 27,
   "id": "8e5bac78-4ff6-46df-85fd-2430159cfe5e",
   "metadata": {},
   "outputs": [
    {
     "name": "stdout",
     "output_type": "stream",
     "text": [
      "[[1 2 3]\n",
      " [4 5 6]\n",
      " [7 8 9]]\n"
     ]
    }
   ],
   "source": [
    "m_sqr = [[1, 2, 3], [4, 5, 6], [7, 8, 9]]\n",
    "m_sqr_arr = np.array(m_sqr)\n",
    "print(m_sqr_arr)"
   ]
  },
  {
   "cell_type": "code",
   "execution_count": 28,
   "id": "77f8f5d7-05b0-480c-a279-c26182bc6a8e",
   "metadata": {},
   "outputs": [
    {
     "name": "stdout",
     "output_type": "stream",
     "text": [
      "[[1 0 0]\n",
      " [0 5 0]\n",
      " [0 0 9]]\n"
     ]
    }
   ],
   "source": [
    "m_diag = [[1, 0, 0], [0, 5, 0], [0, 0, 9]]\n",
    "m_diag_np = np.matrix(m_diag)\n",
    "print(m_diag_np)"
   ]
  },
  {
   "cell_type": "code",
   "execution_count": 29,
   "id": "2472246d-1353-4a7a-82db-0f0b2c86be52",
   "metadata": {},
   "outputs": [
    {
     "name": "stdout",
     "output_type": "stream",
     "text": [
      "[[19 43]\n",
      " [22 50]]\n",
      "[[19 43]\n",
      " [22 50]]\n"
     ]
    }
   ],
   "source": [
    "A = np.matrix('1 2; 3 4')\n",
    "B = np.matrix('5 6; 7 8')\n",
    "L = (A.dot(B)).T\n",
    "R = (B.T).dot(A.T)\n",
    "print(L)\n",
    "print(R)"
   ]
  },
  {
   "cell_type": "code",
   "execution_count": 30,
   "id": "65df4070-444e-4578-beee-e063e62f9bb1",
   "metadata": {},
   "outputs": [
    {
     "name": "stdout",
     "output_type": "stream",
     "text": [
      "-2.000000000\n",
      "-2.000000000\n"
     ]
    }
   ],
   "source": [
    "A = np.matrix('1 2; 3 4')\n",
    "A_det = np.linalg.det(A)\n",
    "A_T_det = np.linalg.det(A.T)\n",
    "print(f\"{A_det:.9f}\")\n",
    "print(f\"{A_T_det:.9f}\")"
   ]
  },
  {
   "cell_type": "code",
   "execution_count": 31,
   "id": "2ca63614-5abd-4e64-9988-de08d816a355",
   "metadata": {},
   "outputs": [
    {
     "name": "stdout",
     "output_type": "stream",
     "text": [
      "[[192 252]\n",
      " [436 572]]\n",
      "[[192 252]\n",
      " [436 572]]\n"
     ]
    }
   ],
   "source": [
    "A = np.matrix('1 2; 3 4')\n",
    "B = np.matrix('5 6; 7 8')\n",
    "C = np.matrix('2 4; 7 8')\n",
    "L = A.dot(B.dot(C))\n",
    "R = (A.dot(B)).dot(C)\n",
    "print(L)\n",
    "print(R)"
   ]
  },
  {
   "cell_type": "code",
   "execution_count": 32,
   "id": "9af41b0c-ef44-4c7e-931d-f96e790f786d",
   "metadata": {},
   "outputs": [
    {
     "name": "stdout",
     "output_type": "stream",
     "text": [
      "-14.0\n",
      "-14.0\n"
     ]
    }
   ],
   "source": [
    "A = np.matrix('-4 -1 2; 10 4 -1; 8 3 1')\n",
    "det_A = round(np.linalg.det(A), 3)\n",
    "det_A_t = round(np.linalg.det(A.T), 3)\n",
    "print(det_A)\n",
    "print(det_A_t)"
   ]
  },
  {
   "cell_type": "code",
   "execution_count": 33,
   "id": "cc03ea0a-5efa-4cde-a950-d9eef1eea1eb",
   "metadata": {},
   "outputs": [
    {
     "name": "stdout",
     "output_type": "stream",
     "text": [
      "[[-4 -1  2]\n",
      " [ 4  2  4]\n",
      " [ 8  3  1]]\n",
      "[[-4 -1  2]\n",
      " [ 8  3  2]\n",
      " [ 8  3  1]]\n"
     ]
    }
   ],
   "source": [
    "A = np.matrix('-4 -1 2; -4 -1 2; 8 3 1')\n",
    "B = np.matrix('-4 -1 2; 8 3 2; 8 3 1')\n",
    "C = A.copy()\n",
    "C[1, :] += B[1, :]\n",
    "print(C)\n",
    "print(B)"
   ]
  },
  {
   "cell_type": "code",
   "execution_count": 34,
   "id": "f52256c8-3817-4a94-973b-bf77744a2673",
   "metadata": {},
   "outputs": [
    {
     "name": "stdout",
     "output_type": "stream",
     "text": [
      "[[ 0.45454545  0.27272727]\n",
      " [-0.18181818  0.09090909]]\n"
     ]
    }
   ],
   "source": [
    "A = np.matrix('1 -3; 2 5')\n",
    "A_inv = np.linalg.inv(A)\n",
    "print(A_inv)"
   ]
  },
  {
   "cell_type": "code",
   "execution_count": 35,
   "id": "a26e93d9-9263-4e40-990f-d2fe1b8c7efb",
   "metadata": {},
   "outputs": [
    {
     "name": "stdout",
     "output_type": "stream",
     "text": [
      "4\n"
     ]
    }
   ],
   "source": [
    "m_eye = np.eye(4)\n",
    "rank = np.linalg.matrix_rank(m_eye)\n",
    "print(rank)"
   ]
  },
  {
   "cell_type": "code",
   "execution_count": null,
   "id": "be1c4257-96c4-4fd3-8835-ee67ed322c81",
   "metadata": {},
   "outputs": [],
   "source": []
  }
 ],
 "metadata": {
  "kernelspec": {
   "display_name": "Python 3 (ipykernel)",
   "language": "python",
   "name": "python3"
  },
  "language_info": {
   "codemirror_mode": {
    "name": "ipython",
    "version": 3
   },
   "file_extension": ".py",
   "mimetype": "text/x-python",
   "name": "python",
   "nbconvert_exporter": "python",
   "pygments_lexer": "ipython3",
   "version": "3.12.7"
  }
 },
 "nbformat": 4,
 "nbformat_minor": 5
}
